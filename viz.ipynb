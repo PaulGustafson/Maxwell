{
 "cells": [
  {
   "cell_type": "code",
   "execution_count": null,
   "metadata": {},
   "outputs": [],
   "source": [
    "import numpy as np\n",
    "import matplotlib.pyplot as plt\n",
    "import seaborn as sns\n",
    "\n",
    "# Assuming you've saved the `ez` values at each time step in separate files\n",
    "increment = 10\n",
    "timesteps = increment*15\n",
    "nx, ny = 256, 256\n",
    "\n",
    "def load_ez(step):\n",
    "    # Load the data from the file saved for each time step\n",
    "    return np.loadtxt(f'build/data/ez_step_{step}.txt').reshape((nx, ny))\n",
    "\n",
    "# Load all the field data\n",
    "field = np.zeros(shape=(timesteps, nx, ny))\n",
    "\n",
    "# Create a 2x5 grid for plotting the first 10 slices\n",
    "fig, axes = plt.subplots(3, 5, figsize=(15, 8))  # 2 rows, 5 columns\n",
    "\n",
    "# Flatten the axes array to make it easier to index\n",
    "axes = axes.flatten()\n",
    "\n",
    "# Plot the first 10 time steps\n",
    "for i, step in enumerate(range(0, timesteps, increment)):\n",
    "    field[i, :, :] = load_ez(step)\n",
    "    sns.heatmap(field[i, :, :], ax=axes[i], cbar=False)  # 45:55 is a zoomed region\n",
    "    axes[i].set_title(f'Timestep {i}')\n",
    "\n",
    "# Adjust the layout to prevent overlap\n",
    "plt.tight_layout()\n",
    "\n",
    "# Show the plot\n",
    "plt.show()\n"
   ]
  },
  {
   "cell_type": "code",
   "execution_count": null,
   "metadata": {},
   "outputs": [],
   "source": [
    "field.min()"
   ]
  }
 ],
 "metadata": {
  "kernelspec": {
   "display_name": "Python 3 (ipykernel)",
   "language": "python",
   "name": "python3"
  },
  "language_info": {
   "codemirror_mode": {
    "name": "ipython",
    "version": 3
   },
   "file_extension": ".py",
   "mimetype": "text/x-python",
   "name": "python",
   "nbconvert_exporter": "python",
   "pygments_lexer": "ipython3",
   "version": "3.10.12"
  }
 },
 "nbformat": 4,
 "nbformat_minor": 2
}
